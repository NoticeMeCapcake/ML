{
 "cells": [
  {
   "cell_type": "markdown",
   "id": "f57c5331-eee8-4586-8b9c-c6e8019cf7db",
   "metadata": {},
   "source": [
    "<h4>Предсказание стоимости аренды в зависимости от площади</h4>"
   ]
  },
  {
   "cell_type": "code",
   "execution_count": 1,
   "id": "cacd65fd-2754-4e1f-85ba-2969ff21da2c",
   "metadata": {},
   "outputs": [],
   "source": [
    "import pandas as pd\n",
    "import numpy as np\n",
    "import matplotlib.pyplot as plt"
   ]
  },
  {
   "cell_type": "code",
   "execution_count": 2,
   "id": "01f4afde-65be-4ab4-be65-b9f19be90ca6",
   "metadata": {},
   "outputs": [
    {
     "data": {
      "text/html": [
       "<div>\n",
       "<style scoped>\n",
       "    .dataframe tbody tr th:only-of-type {\n",
       "        vertical-align: middle;\n",
       "    }\n",
       "\n",
       "    .dataframe tbody tr th {\n",
       "        vertical-align: top;\n",
       "    }\n",
       "\n",
       "    .dataframe thead th {\n",
       "        text-align: right;\n",
       "    }\n",
       "</style>\n",
       "<table border=\"1\" class=\"dataframe\">\n",
       "  <thead>\n",
       "    <tr style=\"text-align: right;\">\n",
       "      <th></th>\n",
       "      <th>area</th>\n",
       "      <th>rent</th>\n",
       "    </tr>\n",
       "  </thead>\n",
       "  <tbody>\n",
       "    <tr>\n",
       "      <th>0</th>\n",
       "      <td>2000</td>\n",
       "      <td>31500</td>\n",
       "    </tr>\n",
       "    <tr>\n",
       "      <th>1</th>\n",
       "      <td>2100</td>\n",
       "      <td>35000</td>\n",
       "    </tr>\n",
       "    <tr>\n",
       "      <th>2</th>\n",
       "      <td>2500</td>\n",
       "      <td>41050</td>\n",
       "    </tr>\n",
       "    <tr>\n",
       "      <th>3</th>\n",
       "      <td>2250</td>\n",
       "      <td>36100</td>\n",
       "    </tr>\n",
       "    <tr>\n",
       "      <th>4</th>\n",
       "      <td>3000</td>\n",
       "      <td>52100</td>\n",
       "    </tr>\n",
       "  </tbody>\n",
       "</table>\n",
       "</div>"
      ],
      "text/plain": [
       "   area   rent\n",
       "0  2000  31500\n",
       "1  2100  35000\n",
       "2  2500  41050\n",
       "3  2250  36100\n",
       "4  3000  52100"
      ]
     },
     "execution_count": 2,
     "metadata": {},
     "output_type": "execute_result"
    }
   ],
   "source": [
    "dataframe =  pd.read_csv(\"Rent.csv\")\n",
    "dataframe.head()"
   ]
  },
  {
   "cell_type": "markdown",
   "id": "d4916405-cf9f-4442-adb3-91a0415906e9",
   "metadata": {},
   "source": [
    "<h4>Отсортируем данные для корректного отображения графика</h4>"
   ]
  },
  {
   "cell_type": "code",
   "execution_count": 3,
   "id": "a1891111-1bab-49b8-be57-70500aa2fbf7",
   "metadata": {},
   "outputs": [],
   "source": [
    "sortedDataFrame = dataframe.sort_values(by=[\"area\", \"rent\"])"
   ]
  },
  {
   "cell_type": "code",
   "execution_count": 4,
   "id": "7872b75e-6a6d-45ee-93ba-264a463ebf15",
   "metadata": {},
   "outputs": [
    {
     "data": {
      "text/plain": [
       "LinearRegression()"
      ]
     },
     "execution_count": 4,
     "metadata": {},
     "output_type": "execute_result"
    }
   ],
   "source": [
    "from sklearn.model_selection import train_test_split\n",
    "from sklearn.linear_model import LinearRegression\n",
    "from sklearn.metrics import confusion_matrix, ConfusionMatrixDisplay\n",
    "X_train, X_test, y_train, y_test = train_test_split(sortedDataFrame['area'], sortedDataFrame['rent'], test_size=0.2,\n",
    "                                                    random_state=42)\n",
    "X_train = X_train.values.reshape(-1,1)\n",
    "X_test = X_test.values.reshape(-1,1)\n",
    "model = LinearRegression()\n",
    "\n",
    "model.fit(X_train, y_train)"
   ]
  },
  {
   "cell_type": "code",
   "execution_count": 5,
   "id": "21301ae7-d58e-4e0e-8be8-cacfb7f5ac88",
   "metadata": {},
   "outputs": [
    {
     "data": {
      "image/png": "[encoded data removed]",
      "text/plain": [
       "<Figure size 1368x432 with 1 Axes>"
      ]
     },
     "metadata": {
      "needs_background": "light"
     },
     "output_type": "display_data"
    }
   ],
   "source": [
    "figure, ax = plt.subplots(figsize = (19, 6))\n",
    "ax.plot(sortedDataFrame['area'], sortedDataFrame['rent'], label='Dataset val')\n",
    "ax.plot(X_train, model.predict(X_train), label='Linear regression')\n",
    "#ax.plot(X_test, model.predict(X_test), label='Prediction')\n",
    "ax.legend()\n",
    "plt.show()"
   ]
  },
  {
   "cell_type": "markdown",
   "id": "35cfe46f-0f61-4b6b-8d7f-0efad316ac93",
   "metadata": {},
   "source": [
    "<h4>Посчитаем ошибки</h4>"
   ]
  },
  {
   "cell_type": "code",
   "execution_count": 6,
   "id": "9e2c54b8-b574-4c66-8aa6-d9c97ee110d1",
   "metadata": {},
   "outputs": [
    {
     "name": "stdout",
     "output_type": "stream",
     "text": [
      "MAE = 2317.013950529136\n",
      "MSE = 8389941.221863575\n"
     ]
    }
   ],
   "source": [
    "from sklearn.metrics import mean_absolute_error\n",
    "from sklearn.metrics import mean_squared_error\n",
    "\n",
    "print(\"MAE = %s\" % mean_absolute_error(model.predict(X_test), y_test))\n",
    "print('MSE = %s' % mean_squared_error(model.predict(X_test), y_test))"
   ]
  }
 ],
 "metadata": {
  "kernelspec": {
   "display_name": "anaconda-2022.05-py39",
   "language": "python",
   "name": "conda-env-anaconda-2022.05-py39-py"
  },
  "language_info": {
   "codemirror_mode": {
    "name": "ipython",
    "version": 3
   },
   "file_extension": ".py",
   "mimetype": "text/x-python",
   "name": "python",
   "nbconvert_exporter": "python",
   "pygments_lexer": "ipython3",
   "version": "3.9.12"
  }
 },
 "nbformat": 4,
 "nbformat_minor": 5
}
