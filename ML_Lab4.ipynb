{
  "nbformat": 4,
  "nbformat_minor": 0,
  "metadata": {
    "colab": {
      "provenance": []
    },
    "kernelspec": {
      "name": "python3",
      "display_name": "Python 3"
    },
    "language_info": {
      "name": "python"
    }
  },
  "cells": [
    {
      "cell_type": "code",
      "execution_count": 2,
      "metadata": {
        "id": "yx63RnYAOa9W"
      },
      "outputs": [],
      "source": [
        "import pandas as pd\n",
        "import numpy as np\n",
        "import matplotlib.pyplot as plt"
      ]
    },
    {
      "cell_type": "code",
      "source": [
        "dataframe =  pd.read_csv(\"Rent.csv\")\n",
        "dataframe.head()"
      ],
      "metadata": {
        "colab": {
          "base_uri": "https://localhost:8080/",
          "height": 206
        },
        "id": "WXcMAxhsPWzN",
        "outputId": "c4e2b35c-e71d-44aa-ae5d-96634f51bda6"
      },
      "execution_count": 3,
      "outputs": [
        {
          "output_type": "execute_result",
          "data": {
            "text/plain": [
              "   area   rent\n",
              "0  2000  31500\n",
              "1  2100  35000\n",
              "2  2500  41050\n",
              "3  2250  36100\n",
              "4  3000  52100"
            ],
            "text/html": [
              "\n",
              "  <div id=\"df-85f92dcc-a263-4319-970d-b24f51f165a7\">\n",
              "    <div class=\"colab-df-container\">\n",
              "      <div>\n",
              "<style scoped>\n",
              "    .dataframe tbody tr th:only-of-type {\n",
              "        vertical-align: middle;\n",
              "    }\n",
              "\n",
              "    .dataframe tbody tr th {\n",
              "        vertical-align: top;\n",
              "    }\n",
              "\n",
              "    .dataframe thead th {\n",
              "        text-align: right;\n",
              "    }\n",
              "</style>\n",
              "<table border=\"1\" class=\"dataframe\">\n",
              "  <thead>\n",
              "    <tr style=\"text-align: right;\">\n",
              "      <th></th>\n",
              "      <th>area</th>\n",
              "      <th>rent</th>\n",
              "    </tr>\n",
              "  </thead>\n",
              "  <tbody>\n",
              "    <tr>\n",
              "      <th>0</th>\n",
              "      <td>2000</td>\n",
              "      <td>31500</td>\n",
              "    </tr>\n",
              "    <tr>\n",
              "      <th>1</th>\n",
              "      <td>2100</td>\n",
              "      <td>35000</td>\n",
              "    </tr>\n",
              "    <tr>\n",
              "      <th>2</th>\n",
              "      <td>2500</td>\n",
              "      <td>41050</td>\n",
              "    </tr>\n",
              "    <tr>\n",
              "      <th>3</th>\n",
              "      <td>2250</td>\n",
              "      <td>36100</td>\n",
              "    </tr>\n",
              "    <tr>\n",
              "      <th>4</th>\n",
              "      <td>3000</td>\n",
              "      <td>52100</td>\n",
              "    </tr>\n",
              "  </tbody>\n",
              "</table>\n",
              "</div>\n",
              "      <button class=\"colab-df-convert\" onclick=\"convertToInteractive('df-85f92dcc-a263-4319-970d-b24f51f165a7')\"\n",
              "              title=\"Convert this dataframe to an interactive table.\"\n",
              "              style=\"display:none;\">\n",
              "        \n",
              "  <svg xmlns=\"http://www.w3.org/2000/svg\" height=\"24px\"viewBox=\"0 0 24 24\"\n",
              "       width=\"24px\">\n",
              "    <path d=\"M0 0h24v24H0V0z\" fill=\"none\"/>\n",
              "    <path d=\"M18.56 5.44l.94 2.06.94-2.06 2.06-.94-2.06-.94-.94-2.06-.94 2.06-2.06.94zm-11 1L8.5 8.5l.94-2.06 2.06-.94-2.06-.94L8.5 2.5l-.94 2.06-2.06.94zm10 10l.94 2.06.94-2.06 2.06-.94-2.06-.94-.94-2.06-.94 2.06-2.06.94z\"/><path d=\"M17.41 7.96l-1.37-1.37c-.4-.4-.92-.59-1.43-.59-.52 0-1.04.2-1.43.59L10.3 9.45l-7.72 7.72c-.78.78-.78 2.05 0 2.83L4 21.41c.39.39.9.59 1.41.59.51 0 1.02-.2 1.41-.59l7.78-7.78 2.81-2.81c.8-.78.8-2.07 0-2.86zM5.41 20L4 18.59l7.72-7.72 1.47 1.35L5.41 20z\"/>\n",
              "  </svg>\n",
              "      </button>\n",
              "      \n",
              "  <style>\n",
              "    .colab-df-container {\n",
              "      display:flex;\n",
              "      flex-wrap:wrap;\n",
              "      gap: 12px;\n",
              "    }\n",
              "\n",
              "    .colab-df-convert {\n",
              "      background-color: #E8F0FE;\n",
              "      border: none;\n",
              "      border-radius: 50%;\n",
              "      cursor: pointer;\n",
              "      display: none;\n",
              "      fill: #1967D2;\n",
              "      height: 32px;\n",
              "      padding: 0 0 0 0;\n",
              "      width: 32px;\n",
              "    }\n",
              "\n",
              "    .colab-df-convert:hover {\n",
              "      background-color: #E2EBFA;\n",
              "      box-shadow: 0px 1px 2px rgba(60, 64, 67, 0.3), 0px 1px 3px 1px rgba(60, 64, 67, 0.15);\n",
              "      fill: #174EA6;\n",
              "    }\n",
              "\n",
              "    [theme=dark] .colab-df-convert {\n",
              "      background-color: #3B4455;\n",
              "      fill: #D2E3FC;\n",
              "    }\n",
              "\n",
              "    [theme=dark] .colab-df-convert:hover {\n",
              "      background-color: #434B5C;\n",
              "      box-shadow: 0px 1px 3px 1px rgba(0, 0, 0, 0.15);\n",
              "      filter: drop-shadow(0px 1px 2px rgba(0, 0, 0, 0.3));\n",
              "      fill: #FFFFFF;\n",
              "    }\n",
              "  </style>\n",
              "\n",
              "      <script>\n",
              "        const buttonEl =\n",
              "          document.querySelector('#df-85f92dcc-a263-4319-970d-b24f51f165a7 button.colab-df-convert');\n",
              "        buttonEl.style.display =\n",
              "          google.colab.kernel.accessAllowed ? 'block' : 'none';\n",
              "\n",
              "        async function convertToInteractive(key) {\n",
              "          const element = document.querySelector('#df-85f92dcc-a263-4319-970d-b24f51f165a7');\n",
              "          const dataTable =\n",
              "            await google.colab.kernel.invokeFunction('convertToInteractive',\n",
              "                                                     [key], {});\n",
              "          if (!dataTable) return;\n",
              "\n",
              "          const docLinkHtml = 'Like what you see? Visit the ' +\n",
              "            '<a target=\"_blank\" href=https://colab.research.google.com/notebooks/data_table.ipynb>data table notebook</a>'\n",
              "            + ' to learn more about interactive tables.';\n",
              "          element.innerHTML = '';\n",
              "          dataTable['output_type'] = 'display_data';\n",
              "          await google.colab.output.renderOutput(dataTable, element);\n",
              "          const docLink = document.createElement('div');\n",
              "          docLink.innerHTML = docLinkHtml;\n",
              "          element.appendChild(docLink);\n",
              "        }\n",
              "      </script>\n",
              "    </div>\n",
              "  </div>\n",
              "  "
            ]
          },
          "metadata": {},
          "execution_count": 3
        }
      ]
    },
    {
      "cell_type": "markdown",
      "source": [
        "Отсортируем данные для корректного отображения графика"
      ],
      "metadata": {
        "id": "OG687U35Pag2"
      }
    },
    {
      "cell_type": "code",
      "source": [
        "sortedDataFrame = dataframe.sort_values(by=[\"area\", \"rent\"])"
      ],
      "metadata": {
        "id": "zYHoYFyWPbAP"
      },
      "execution_count": 4,
      "outputs": []
    },
    {
      "cell_type": "code",
      "source": [
        "from sklearn.model_selection import train_test_split\n",
        "from sklearn.linear_model import LinearRegression\n",
        "from sklearn.metrics import confusion_matrix, ConfusionMatrixDisplay\n",
        "X_train, X_test, y_train, y_test = train_test_split(sortedDataFrame['area'], sortedDataFrame['rent'], test_size=0.2,\n",
        "                                                    random_state=42)\n",
        "X_train = X_train.values.reshape(-1,1)\n",
        "X_test = X_test.values.reshape(-1,1)\n",
        "model = LinearRegression()\n",
        "\n",
        "model.fit(X_train, y_train)"
      ],
      "metadata": {
        "colab": {
          "base_uri": "https://localhost:8080/",
          "height": 74
        },
        "id": "ltYoMInrPeff",
        "outputId": "7aa16809-c868-449c-89ff-dc484ca5f141"
      },
      "execution_count": 5,
      "outputs": [
        {
          "output_type": "execute_result",
          "data": {
            "text/plain": [
              "LinearRegression()"
            ],
            "text/html": [
              "<style>#sk-container-id-1 {color: black;background-color: white;}#sk-container-id-1 pre{padding: 0;}#sk-container-id-1 div.sk-toggleable {background-color: white;}#sk-container-id-1 label.sk-toggleable__label {cursor: pointer;display: block;width: 100%;margin-bottom: 0;padding: 0.3em;box-sizing: border-box;text-align: center;}#sk-container-id-1 label.sk-toggleable__label-arrow:before {content: \"▸\";float: left;margin-right: 0.25em;color: #696969;}#sk-container-id-1 label.sk-toggleable__label-arrow:hover:before {color: black;}#sk-container-id-1 div.sk-estimator:hover label.sk-toggleable__label-arrow:before {color: black;}#sk-container-id-1 div.sk-toggleable__content {max-height: 0;max-width: 0;overflow: hidden;text-align: left;background-color: #f0f8ff;}#sk-container-id-1 div.sk-toggleable__content pre {margin: 0.2em;color: black;border-radius: 0.25em;background-color: #f0f8ff;}#sk-container-id-1 input.sk-toggleable__control:checked~div.sk-toggleable__content {max-height: 200px;max-width: 100%;overflow: auto;}#sk-container-id-1 input.sk-toggleable__control:checked~label.sk-toggleable__label-arrow:before {content: \"▾\";}#sk-container-id-1 div.sk-estimator input.sk-toggleable__control:checked~label.sk-toggleable__label {background-color: #d4ebff;}#sk-container-id-1 div.sk-label input.sk-toggleable__control:checked~label.sk-toggleable__label {background-color: #d4ebff;}#sk-container-id-1 input.sk-hidden--visually {border: 0;clip: rect(1px 1px 1px 1px);clip: rect(1px, 1px, 1px, 1px);height: 1px;margin: -1px;overflow: hidden;padding: 0;position: absolute;width: 1px;}#sk-container-id-1 div.sk-estimator {font-family: monospace;background-color: #f0f8ff;border: 1px dotted black;border-radius: 0.25em;box-sizing: border-box;margin-bottom: 0.5em;}#sk-container-id-1 div.sk-estimator:hover {background-color: #d4ebff;}#sk-container-id-1 div.sk-parallel-item::after {content: \"\";width: 100%;border-bottom: 1px solid gray;flex-grow: 1;}#sk-container-id-1 div.sk-label:hover label.sk-toggleable__label {background-color: #d4ebff;}#sk-container-id-1 div.sk-serial::before {content: \"\";position: absolute;border-left: 1px solid gray;box-sizing: border-box;top: 0;bottom: 0;left: 50%;z-index: 0;}#sk-container-id-1 div.sk-serial {display: flex;flex-direction: column;align-items: center;background-color: white;padding-right: 0.2em;padding-left: 0.2em;position: relative;}#sk-container-id-1 div.sk-item {position: relative;z-index: 1;}#sk-container-id-1 div.sk-parallel {display: flex;align-items: stretch;justify-content: center;background-color: white;position: relative;}#sk-container-id-1 div.sk-item::before, #sk-container-id-1 div.sk-parallel-item::before {content: \"\";position: absolute;border-left: 1px solid gray;box-sizing: border-box;top: 0;bottom: 0;left: 50%;z-index: -1;}#sk-container-id-1 div.sk-parallel-item {display: flex;flex-direction: column;z-index: 1;position: relative;background-color: white;}#sk-container-id-1 div.sk-parallel-item:first-child::after {align-self: flex-end;width: 50%;}#sk-container-id-1 div.sk-parallel-item:last-child::after {align-self: flex-start;width: 50%;}#sk-container-id-1 div.sk-parallel-item:only-child::after {width: 0;}#sk-container-id-1 div.sk-dashed-wrapped {border: 1px dashed gray;margin: 0 0.4em 0.5em 0.4em;box-sizing: border-box;padding-bottom: 0.4em;background-color: white;}#sk-container-id-1 div.sk-label label {font-family: monospace;font-weight: bold;display: inline-block;line-height: 1.2em;}#sk-container-id-1 div.sk-label-container {text-align: center;}#sk-container-id-1 div.sk-container {/* jupyter's `normalize.less` sets `[hidden] { display: none; }` but bootstrap.min.css set `[hidden] { display: none !important; }` so we also need the `!important` here to be able to override the default hidden behavior on the sphinx rendered scikit-learn.org. See: https://github.com/scikit-learn/scikit-learn/issues/21755 */display: inline-block !important;position: relative;}#sk-container-id-1 div.sk-text-repr-fallback {display: none;}</style><div id=\"sk-container-id-1\" class=\"sk-top-container\"><div class=\"sk-text-repr-fallback\"><pre>LinearRegression()</pre><b>In a Jupyter environment, please rerun this cell to show the HTML representation or trust the notebook. <br />On GitHub, the HTML representation is unable to render, please try loading this page with nbviewer.org.</b></div><div class=\"sk-container\" hidden><div class=\"sk-item\"><div class=\"sk-estimator sk-toggleable\"><input class=\"sk-toggleable__control sk-hidden--visually\" id=\"sk-estimator-id-1\" type=\"checkbox\" checked><label for=\"sk-estimator-id-1\" class=\"sk-toggleable__label sk-toggleable__label-arrow\">LinearRegression</label><div class=\"sk-toggleable__content\"><pre>LinearRegression()</pre></div></div></div></div></div>"
            ]
          },
          "metadata": {},
          "execution_count": 5
        }
      ]
    },
    {
      "cell_type": "code",
      "source": [
        "figure, ax = plt.subplots(figsize = (19, 6))\n",
        "ax.plot(sortedDataFrame['area'], sortedDataFrame['rent'], label='Dataset val')\n",
        "ax.plot(X_train, model.predict(X_train), label='Linear regression')\n",
        "ax.legend()\n",
        "plt.show()"
      ],
      "metadata": {
        "colab": {
          "base_uri": "https://localhost:8080/",
          "height": 381
        },
        "id": "I2zE1FXaPgCL",
        "outputId": "fdc95aa2-1496-496b-899e-637633301eb8"
      },
      "execution_count": 6,
      "outputs": [
        {
          "output_type": "display_data",
          "data": {
            "text/plain": [
              "<Figure size 1900x600 with 1 Axes>"
            ],
            "image/png": "[encoded data removed]"
          },
          "metadata": {}
        }
      ]
    },
    {
      "cell_type": "markdown",
      "source": [
        "Посчитаем ошибки"
      ],
      "metadata": {
        "id": "zaM_oK2gPjKX"
      }
    },
    {
      "cell_type": "code",
      "source": [
        "from sklearn.metrics import mean_absolute_error\n",
        "from sklearn.metrics import mean_squared_error\n",
        "\n",
        "print(\"MAE = %s\" % mean_absolute_error(model.predict(X_test), y_test))\n",
        "print('MSE = %s' % mean_squared_error(model.predict(X_test), y_test))"
      ],
      "metadata": {
        "colab": {
          "base_uri": "https://localhost:8080/"
        },
        "id": "xqFEThqgPkqi",
        "outputId": "99000d1c-4b7f-4f4a-f71b-d438eab66046"
      },
      "execution_count": 7,
      "outputs": [
        {
          "output_type": "stream",
          "name": "stdout",
          "text": [
            "MAE = 2317.013950529136\n",
            "MSE = 8389941.221863575\n"
          ]
        }
      ]
    },
    {
      "cell_type": "markdown",
      "source": [
        "<h4>Пакет catboost</h4>"
      ],
      "metadata": {
        "id": "eFoH9aVPPnBg"
      }
    },
    {
      "cell_type": "code",
      "source": [
        "from catboost import CatBoostRegressor\n",
        "catModel = CatBoostRegressor(iterations=2500,\n",
        "                          learning_rate=0.1,\n",
        "                          depth=6,\n",
        "                          random_state=740)\n",
        "\n",
        "catModel.fit(X_train, y_train, verbose=100)\n",
        "\n",
        "\n",
        "y_pred = catModel.predict(X_test)"
      ],
      "metadata": {
        "colab": {
          "base_uri": "https://localhost:8080/"
        },
        "id": "jMnXAIyNPnqH",
        "outputId": "157f5520-e2b8-495b-b110-9bab08cf9035"
      },
      "execution_count": 8,
      "outputs": [
        {
          "output_type": "stream",
          "name": "stdout",
          "text": [
            "0:\tlearn: 10651.4105322\ttotal: 45.9ms\tremaining: 1m 54s\n",
            "100:\tlearn: 1224.0466797\ttotal: 55ms\tremaining: 1.31s\n",
            "200:\tlearn: 1134.5174110\ttotal: 64ms\tremaining: 733ms\n",
            "300:\tlearn: 1127.7760151\ttotal: 72.8ms\tremaining: 532ms\n",
            "400:\tlearn: 1126.8502242\ttotal: 82.3ms\tremaining: 431ms\n",
            "500:\tlearn: 1126.6866046\ttotal: 92.4ms\tremaining: 369ms\n",
            "600:\tlearn: 1126.6612775\ttotal: 109ms\tremaining: 345ms\n",
            "700:\tlearn: 1126.6554228\ttotal: 119ms\tremaining: 306ms\n",
            "800:\tlearn: 1126.6545003\ttotal: 130ms\tremaining: 275ms\n",
            "900:\tlearn: 1126.6543484\ttotal: 140ms\tremaining: 248ms\n",
            "1000:\tlearn: 1126.6543172\ttotal: 150ms\tremaining: 225ms\n",
            "1100:\tlearn: 1126.6543120\ttotal: 161ms\tremaining: 204ms\n",
            "1200:\tlearn: 1126.6543113\ttotal: 171ms\tremaining: 185ms\n",
            "1300:\tlearn: 1126.6543112\ttotal: 181ms\tremaining: 167ms\n",
            "1400:\tlearn: 1126.6543112\ttotal: 191ms\tremaining: 150ms\n",
            "1500:\tlearn: 1126.6543112\ttotal: 203ms\tremaining: 135ms\n",
            "1600:\tlearn: 1126.6543112\ttotal: 213ms\tremaining: 120ms\n",
            "1700:\tlearn: 1126.6543112\ttotal: 224ms\tremaining: 105ms\n",
            "1800:\tlearn: 1126.6543112\ttotal: 234ms\tremaining: 90.9ms\n",
            "1900:\tlearn: 1126.6543112\ttotal: 244ms\tremaining: 76.9ms\n",
            "2000:\tlearn: 1126.6543112\ttotal: 254ms\tremaining: 63.4ms\n",
            "2100:\tlearn: 1126.6543112\ttotal: 265ms\tremaining: 50.2ms\n",
            "2200:\tlearn: 1126.6543112\ttotal: 274ms\tremaining: 37.3ms\n",
            "2300:\tlearn: 1126.6543112\ttotal: 285ms\tremaining: 24.6ms\n",
            "2400:\tlearn: 1126.6543112\ttotal: 295ms\tremaining: 12.2ms\n",
            "2499:\tlearn: 1126.6543112\ttotal: 305ms\tremaining: 0us\n"
          ]
        }
      ]
    },
    {
      "cell_type": "code",
      "source": [
        "print('MSE = ', mean_squared_error(y_pred, y_test))\n",
        "print(\"MAE = \", mean_absolute_error(y_pred, y_test))"
      ],
      "metadata": {
        "colab": {
          "base_uri": "https://localhost:8080/"
        },
        "id": "MAfKBrHqPrhV",
        "outputId": "609d6630-c32f-4fcc-f818-92eb63e27873"
      },
      "execution_count": 9,
      "outputs": [
        {
          "output_type": "stream",
          "name": "stdout",
          "text": [
            "MSE =  1728796.2962925609\n",
            "MAE =  891.6666666250876\n"
          ]
        }
      ]
    },
    {
      "cell_type": "markdown",
      "source": [
        "<h4>Пакет lightgbm</h4>"
      ],
      "metadata": {
        "id": "MSnOVG8qPuQ7"
      }
    },
    {
      "cell_type": "code",
      "source": [
        "import lightgbm as lgb\n",
        "lightBmModel = lgb.LGBMRegressor(num_leaves=31,\n",
        "                          learning_rate=0.1, \n",
        "                          n_estimators=100, \n",
        "                          random_state=42) \n",
        "lightBmModel.fit(X_train, y_train, verbose=10)\n",
        "\n",
        "y_pred = lightBmModel.predict(X_test)"
      ],
      "metadata": {
        "colab": {
          "base_uri": "https://localhost:8080/"
        },
        "id": "Fa-yKDNJPwI1",
        "outputId": "827f04b1-0364-49c9-9141-a7fda0a615c5"
      },
      "execution_count": 10,
      "outputs": [
        {
          "output_type": "stream",
          "name": "stderr",
          "text": [
            "/usr/local/lib/python3.10/dist-packages/lightgbm/sklearn.py:736: UserWarning: 'verbose' argument is deprecated and will be removed in a future release of LightGBM. Pass 'log_evaluation()' callback via 'callbacks' argument instead.\n",
            "  _log_warning(\"'verbose' argument is deprecated and will be removed in a future release of LightGBM. \"\n"
          ]
        }
      ]
    },
    {
      "cell_type": "markdown",
      "source": [
        "<h4>Ошибки:</h4>"
      ],
      "metadata": {
        "id": "Ybep5snfPyOp"
      }
    },
    {
      "cell_type": "code",
      "source": [
        "print('MSE = ', mean_squared_error(y_pred, y_test))\n",
        "print(\"MAE = \", mean_absolute_error(y_pred, y_test))"
      ],
      "metadata": {
        "colab": {
          "base_uri": "https://localhost:8080/"
        },
        "id": "J63WxkyhP07h",
        "outputId": "67596c2d-7ba6-4f04-d7d9-bd2fd45e5a4e"
      },
      "execution_count": 11,
      "outputs": [
        {
          "output_type": "stream",
          "name": "stdout",
          "text": [
            "MSE =  57298019.98191156\n",
            "MAE =  6361.425512051764\n"
          ]
        }
      ]
    },
    {
      "cell_type": "markdown",
      "source": [
        "<h4>Пакет xgBoost</h4>"
      ],
      "metadata": {
        "id": "wblI9EQpP3jx"
      }
    },
    {
      "cell_type": "code",
      "source": [
        "import xgboost as xgb\n",
        "dtrain = xgb.DMatrix(X_train, label=y_train)\n",
        "dtest = xgb.DMatrix(X_test, label=y_test)\n",
        "\n",
        "params = {\n",
        "    'booster': 'gbtree',\n",
        "    'objective': 'reg:squarederror',\n",
        "    'eval_metric': 'rmse',\n",
        "    'max_depth': 3,\n",
        "    'eta': 0.1,\n",
        "    'subsample': 0.8,\n",
        "    'colsample_bytree': 0.8,\n",
        "    'alpha': 0.1,\n",
        "    'lambda': 0.1,\n",
        "    'min_child_weight': 1,\n",
        "    'seed': 42\n",
        "}\n",
        "\n",
        "num_rounds = 100\n",
        "xgbModel = xgb.train(params, dtrain, num_rounds)\n",
        "\n",
        "y_pred = xgbModel.predict(dtest)"
      ],
      "metadata": {
        "id": "brcN23akP6bg"
      },
      "execution_count": 12,
      "outputs": []
    },
    {
      "cell_type": "markdown",
      "source": [
        "<h4>Ошибки:</h4>"
      ],
      "metadata": {
        "id": "ZTaeT3LsP-f5"
      }
    },
    {
      "cell_type": "code",
      "source": [
        "print('MSE = ', mean_squared_error(y_pred, y_test))\n",
        "print(\"MAE = \", mean_absolute_error(y_pred, y_test))"
      ],
      "metadata": {
        "colab": {
          "base_uri": "https://localhost:8080/"
        },
        "id": "0C6XmwEfP-_Y",
        "outputId": "1923d12a-923c-403b-acc0-28bc6dea2b55"
      },
      "execution_count": 13,
      "outputs": [
        {
          "output_type": "stream",
          "name": "stdout",
          "text": [
            "MSE =  10178751.957915625\n",
            "MAE =  1747.7200520833333\n"
          ]
        }
      ]
    },
    {
      "cell_type": "markdown",
      "source": [
        "Как видно, в данном случае лучше всего себя показал catboost, на втором месте xgBoost и в конце lightgbm"
      ],
      "metadata": {
        "id": "Ab8WMklPQIpd"
      }
    }
  ]
}